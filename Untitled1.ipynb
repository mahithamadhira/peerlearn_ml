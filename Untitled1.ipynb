{
 "cells": [
  {
   "cell_type": "code",
   "execution_count": 1,
   "id": "132e5b1a-1e1d-4d9d-9040-e83d11d5c258",
   "metadata": {},
   "outputs": [],
   "source": [
    "import joblib\n",
    "\n",
    "# Load saved model\n",
    "model = joblib.load('reviewer_model.pkl')"
   ]
  },
  {
   "cell_type": "code",
   "execution_count": 5,
   "id": "e083181b-83c3-4564-a00f-c8368b94672c",
   "metadata": {},
   "outputs": [],
   "source": [
    "# Simulate reviewer stats for a new submission (e.g., assignid = 4)\n",
    "new_reviewers = pd.DataFrame([\n",
    "    {\n",
    "        'reviewer_avg_error_all': 4.8,\n",
    "        'reviewer_review_count': 12,\n",
    "        'reviewer_std_dev_error': 2.7,\n",
    "        'reviewer_avg_error_on_assign': 5.1,\n",
    "        'reviewer_review_count_on_assign': 4\n",
    "    },\n",
    "    {\n",
    "        'reviewer_avg_error_all': 3.9,\n",
    "        'reviewer_review_count': 10,\n",
    "        'reviewer_std_dev_error': 2.1,\n",
    "        'reviewer_avg_error_on_assign': 4.2,\n",
    "        'reviewer_review_count_on_assign': 3\n",
    "    },\n",
    "    {\n",
    "        'reviewer_avg_error_all': 5.5,\n",
    "        'reviewer_review_count': 17,\n",
    "        'reviewer_std_dev_error': 3.3,\n",
    "        'reviewer_avg_error_on_assign': 6.7,\n",
    "        'reviewer_review_count_on_assign': 2\n",
    "    }\n",
    "])\n",
    "\n",
    "# Optional: add reviewer ID\n",
    "new_reviewers['reviewer_id'] = [201, 202, 203]\n"
   ]
  },
  {
   "cell_type": "code",
   "execution_count": 6,
   "id": "795df052-be09-42b0-9ccb-4dcec80f3a83",
   "metadata": {},
   "outputs": [],
   "source": [
    "# Select feature columns\n",
    "feature_cols = [\n",
    "    'reviewer_avg_error_all',\n",
    "    'reviewer_review_count',\n",
    "    'reviewer_std_dev_error',\n",
    "    'reviewer_avg_error_on_assign',\n",
    "    'reviewer_review_count_on_assign'\n",
    "]\n",
    "\n",
    "# Predict\n",
    "new_reviewers['predicted_abs_error'] = model.predict(new_reviewers[feature_cols])\n"
   ]
  },
  {
   "cell_type": "code",
   "execution_count": 7,
   "id": "3963fc9a-d849-42b0-b195-b9a55d9946db",
   "metadata": {},
   "outputs": [
    {
     "data": {
      "text/html": [
       "<div>\n",
       "<style scoped>\n",
       "    .dataframe tbody tr th:only-of-type {\n",
       "        vertical-align: middle;\n",
       "    }\n",
       "\n",
       "    .dataframe tbody tr th {\n",
       "        vertical-align: top;\n",
       "    }\n",
       "\n",
       "    .dataframe thead th {\n",
       "        text-align: right;\n",
       "    }\n",
       "</style>\n",
       "<table border=\"1\" class=\"dataframe\">\n",
       "  <thead>\n",
       "    <tr style=\"text-align: right;\">\n",
       "      <th></th>\n",
       "      <th>reviewer_avg_error_all</th>\n",
       "      <th>reviewer_review_count</th>\n",
       "      <th>reviewer_std_dev_error</th>\n",
       "      <th>reviewer_avg_error_on_assign</th>\n",
       "      <th>reviewer_review_count_on_assign</th>\n",
       "      <th>reviewer_id</th>\n",
       "      <th>predicted_abs_error</th>\n",
       "    </tr>\n",
       "  </thead>\n",
       "  <tbody>\n",
       "    <tr>\n",
       "      <th>0</th>\n",
       "      <td>4.8</td>\n",
       "      <td>12</td>\n",
       "      <td>2.7</td>\n",
       "      <td>5.1</td>\n",
       "      <td>4</td>\n",
       "      <td>201</td>\n",
       "      <td>6.022999</td>\n",
       "    </tr>\n",
       "    <tr>\n",
       "      <th>1</th>\n",
       "      <td>3.9</td>\n",
       "      <td>10</td>\n",
       "      <td>2.1</td>\n",
       "      <td>4.2</td>\n",
       "      <td>3</td>\n",
       "      <td>202</td>\n",
       "      <td>6.032050</td>\n",
       "    </tr>\n",
       "    <tr>\n",
       "      <th>2</th>\n",
       "      <td>5.5</td>\n",
       "      <td>17</td>\n",
       "      <td>3.3</td>\n",
       "      <td>6.7</td>\n",
       "      <td>2</td>\n",
       "      <td>203</td>\n",
       "      <td>6.138496</td>\n",
       "    </tr>\n",
       "  </tbody>\n",
       "</table>\n",
       "</div>"
      ],
      "text/plain": [
       "   reviewer_avg_error_all  reviewer_review_count  reviewer_std_dev_error  \\\n",
       "0                     4.8                     12                     2.7   \n",
       "1                     3.9                     10                     2.1   \n",
       "2                     5.5                     17                     3.3   \n",
       "\n",
       "   reviewer_avg_error_on_assign  reviewer_review_count_on_assign  reviewer_id  \\\n",
       "0                           5.1                                4          201   \n",
       "1                           4.2                                3          202   \n",
       "2                           6.7                                2          203   \n",
       "\n",
       "   predicted_abs_error  \n",
       "0             6.022999  \n",
       "1             6.032050  \n",
       "2             6.138496  "
      ]
     },
     "execution_count": 7,
     "metadata": {},
     "output_type": "execute_result"
    }
   ],
   "source": [
    "# Sort by lowest predicted error (most accurate reviewer first)\n",
    "new_reviewers_sorted = new_reviewers.sort_values(by='predicted_abs_error')\n",
    "new_reviewers_sorted\n"
   ]
  },
  {
   "cell_type": "code",
   "execution_count": 8,
   "id": "92e37895-26e3-4017-853f-022e6a7515f7",
   "metadata": {},
   "outputs": [
    {
     "ename": "NameError",
     "evalue": "name 'y_test' is not defined",
     "output_type": "error",
     "traceback": [
      "\u001b[31m---------------------------------------------------------------------------\u001b[39m",
      "\u001b[31mNameError\u001b[39m                                 Traceback (most recent call last)",
      "\u001b[36mCell\u001b[39m\u001b[36m \u001b[39m\u001b[32mIn[8]\u001b[39m\u001b[32m, line 3\u001b[39m\n\u001b[32m      1\u001b[39m \u001b[38;5;28;01mimport\u001b[39;00m\u001b[38;5;250m \u001b[39m\u001b[34;01mmatplotlib\u001b[39;00m\u001b[34;01m.\u001b[39;00m\u001b[34;01mpyplot\u001b[39;00m\u001b[38;5;250m \u001b[39m\u001b[38;5;28;01mas\u001b[39;00m\u001b[38;5;250m \u001b[39m\u001b[34;01mplt\u001b[39;00m\n\u001b[32m----> \u001b[39m\u001b[32m3\u001b[39m plt.scatter(\u001b[43my_test\u001b[49m, y_pred)\n\u001b[32m      4\u001b[39m plt.xlabel(\u001b[33m\"\u001b[39m\u001b[33mActual abs_error\u001b[39m\u001b[33m\"\u001b[39m)\n\u001b[32m      5\u001b[39m plt.ylabel(\u001b[33m\"\u001b[39m\u001b[33mPredicted abs_error\u001b[39m\u001b[33m\"\u001b[39m)\n",
      "\u001b[31mNameError\u001b[39m: name 'y_test' is not defined"
     ]
    }
   ],
   "source": [
    "import matplotlib.pyplot as plt\n",
    "\n",
    "plt.scatter(y_test, y_pred)\n",
    "plt.xlabel(\"Actual abs_error\")\n",
    "plt.ylabel(\"Predicted abs_error\")\n",
    "plt.title(\"Actual vs Predicted\")\n",
    "plt.grid(True)\n",
    "plt.show()\n"
   ]
  },
  {
   "cell_type": "code",
   "execution_count": null,
   "id": "bdb543f7-846b-4b6a-b4cb-716a0e4a4e7f",
   "metadata": {},
   "outputs": [],
   "source": []
  }
 ],
 "metadata": {
  "kernelspec": {
   "display_name": "Python (pipx)",
   "language": "python",
   "name": "jupyter-pipx"
  },
  "language_info": {
   "codemirror_mode": {
    "name": "ipython",
    "version": 3
   },
   "file_extension": ".py",
   "mimetype": "text/x-python",
   "name": "python",
   "nbconvert_exporter": "python",
   "pygments_lexer": "ipython3",
   "version": "3.13.2"
  }
 },
 "nbformat": 4,
 "nbformat_minor": 5
}
