{
 "cells": [
  {
   "cell_type": "code",
   "execution_count": null,
   "id": "a3893cd6-f2aa-4227-96a4-1836b3cd7262",
   "metadata": {},
   "outputs": [],
   "source": []
  }
 ],
 "metadata": {
  "kernelspec": {
   "display_name": "",
   "name": ""
  },
  "language_info": {
   "name": ""
  }
 },
 "nbformat": 4,
 "nbformat_minor": 5
}
